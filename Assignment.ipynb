{
 "cells": [
  {
   "cell_type": "code",
   "execution_count": 5,
   "metadata": {
    "collapsed": false
   },
   "outputs": [
    {
     "name": "stdout",
     "output_type": "stream",
     "text": [
      "10\n"
     ]
    }
   ],
   "source": [
    "# q1\n",
    "\n",
    "def convertoString(number):\n",
    "    return str(number)\n",
    "\n",
    "print convertoString(10)"
   ]
  },
  {
   "cell_type": "code",
   "execution_count": 4,
   "metadata": {
    "collapsed": false
   },
   "outputs": [
    {
     "name": "stdout",
     "output_type": "stream",
     "text": [
      "27\n"
     ]
    }
   ],
   "source": [
    "#q2\n",
    "#compute sum of two strings in int form\n",
    "\n",
    "def sum(no1, no2):\n",
    "    return (int(no1) + int(no2))\n",
    "\n",
    "print sum(\"12\", \"15\")\n"
   ]
  },
  {
   "cell_type": "code",
   "execution_count": 7,
   "metadata": {
    "collapsed": false
   },
   "outputs": [
    {
     "name": "stdout",
     "output_type": "stream",
     "text": [
      "Hi Muchache\n"
     ]
    }
   ],
   "source": [
    "def conc(st1, st2):\n",
    "    return st1 + \" \" +st2\n",
    "\n",
    "print conc(\"Hi\", \"Muchache\")"
   ]
  },
  {
   "cell_type": "code",
   "execution_count": 11,
   "metadata": {
    "collapsed": false
   },
   "outputs": [
    {
     "name": "stdout",
     "output_type": "stream",
     "text": [
      "AA\n"
     ]
    }
   ],
   "source": [
    "def compare(st1, st2):\n",
    "    if len(st1) > len(st2):\n",
    "        print st1\n",
    "    elif len(st1) < len(st2):\n",
    "        print st2\n",
    "    else:\n",
    "        print st1\n",
    "        print st2\n",
    "\n",
    "compare(\"a\", \"AA\")"
   ]
  },
  {
   "cell_type": "code",
   "execution_count": 16,
   "metadata": {
    "collapsed": false
   },
   "outputs": [
    {
     "name": "stdout",
     "output_type": "stream",
     "text": [
      "5 is not even\n"
     ]
    }
   ],
   "source": [
    "def checkEven(no1):\n",
    "    if no1 % 2 == 0:\n",
    "        print no1 ,\"is even\"\n",
    "    else:\n",
    "        print no1 ,\"is not even\"\n",
    "        \n",
    "checkEven(5)"
   ]
  },
  {
   "cell_type": "code",
   "execution_count": 23,
   "metadata": {
    "collapsed": false
   },
   "outputs": [
    {
     "name": "stdout",
     "output_type": "stream",
     "text": [
      "No\n"
     ]
    }
   ],
   "source": [
    "def sayYes(st1):\n",
    "    if (st1 == \"yes\") or (st1 == \"YES\") or (st1 == \"Yes\"):\n",
    "        print \"Yes\"\n",
    "    else:\n",
    "        print \"No\"\n",
    "        \n",
    "sayYes(\"no\")"
   ]
  },
  {
   "cell_type": "code",
   "execution_count": 34,
   "metadata": {
    "collapsed": false
   },
   "outputs": [
    {
     "name": "stdout",
     "output_type": "stream",
     "text": [
      "[2, 4, 6, 8]\n"
     ]
    }
   ],
   "source": [
    "def filterList():\n",
    "    no = {1,2,3,4,5,6,7,8,9}\n",
    "    print filter(lambda x: x % 2 == 0,no)\n",
    "\n",
    "filterList()"
   ]
  },
  {
   "cell_type": "code",
   "execution_count": 37,
   "metadata": {
    "collapsed": false
   },
   "outputs": [
    {
     "name": "stdout",
     "output_type": "stream",
     "text": [
      "[1, 4, 9, 16, 25, 36, 49, 64, 81]\n",
      "None\n"
     ]
    }
   ],
   "source": [
    "def squareList():    \n",
    "    print map(lambda x: x*x, no)\n",
    "    \n",
    "print squareList()"
   ]
  },
  {
   "cell_type": "code",
   "execution_count": 15,
   "metadata": {
    "collapsed": false
   },
   "outputs": [
    {
     "name": "stdout",
     "output_type": "stream",
     "text": [
      "0 2 4 6 8 10 12 14 16 18 20\n"
     ]
    }
   ],
   "source": [
    "def filterList():\n",
    "    finalList = []\n",
    "    i=0\n",
    "    while i<=20:\n",
    "        if i%2==0:\n",
    "            finalList.append(i)\n",
    "        i+=1\n",
    "    for element in finalList:\n",
    "        print element,\n",
    "         \n",
    "filterList() \n",
    "        "
   ]
  },
  {
   "cell_type": "code",
   "execution_count": 17,
   "metadata": {
    "collapsed": false
   },
   "outputs": [
    {
     "name": "stdout",
     "output_type": "stream",
     "text": [
      "d\n",
      "G\n",
      "k\n",
      "L\n",
      "O\n",
      "S\n"
     ]
    }
   ],
   "source": [
    "def listSort(csv):\n",
    "    sorted(csv)\n",
    "    for element in csv:\n",
    "        print element\n",
    "        \n",
    "values = {'L','k','d','O','G','S'}\n",
    "listSort(values)"
   ]
  },
  {
   "cell_type": "code",
   "execution_count": 23,
   "metadata": {
    "collapsed": false
   },
   "outputs": [
    {
     "name": "stdout",
     "output_type": "stream",
     "text": [
      "H e l l o w o r l d\n"
     ]
    }
   ],
   "source": [
    "def skipTwo(str):\n",
    "    for i in range(0,len(str),2):\n",
    "        print str[i],\n",
    "        \n",
    "skipTwo(\"H1e2l3l4o5w6o7r8l9d\")"
   ]
  },
  {
   "cell_type": "code",
   "execution_count": 28,
   "metadata": {
    "collapsed": false
   },
   "outputs": [
    {
     "name": "stdout",
     "output_type": "stream",
     "text": [
      "HELLO WORLD PRACTICE MAKES BLAH\n"
     ]
    }
   ],
   "source": [
    "def capitalise(str):\n",
    "    return str.upper()\n",
    "\n",
    "value = \"hello world practice makes blah\"\n",
    "print capitalise(value)"
   ]
  },
  {
   "cell_type": "code",
   "execution_count": 4,
   "metadata": {
    "collapsed": false
   },
   "outputs": [
    {
     "name": "stdout",
     "output_type": "stream",
     "text": [
      "again and hello makes perfect practice world\n"
     ]
    }
   ],
   "source": [
    "def unique():\n",
    "    str = \"hello world and practice makes perfect and hello world again\"\n",
    "    words = []\n",
    "    for word in str.split(\" \"):\n",
    "        words.append(word)\n",
    "    print \" \".join(sorted(list(set(words))))\n",
    "    \n",
    "\n",
    "unique()"
   ]
  },
  {
   "cell_type": "code",
   "execution_count": 8,
   "metadata": {
    "collapsed": false
   },
   "outputs": [
    {
     "name": "stdout",
     "output_type": "stream",
     "text": [
      "Digits 3\n",
      "Alphabets 10\n"
     ]
    }
   ],
   "source": [
    "def check(st):\n",
    "    countDigit=0\n",
    "    countAlpha=0\n",
    "    for letter in st:\n",
    "        if letter.isdigit():\n",
    "            countDigit+=1\n",
    "        elif letter.isalpha():\n",
    "            countAlpha+=1\n",
    "    print \"Digits\",countDigit\n",
    "    print \"Alphabets\",countAlpha\n",
    "    \n",
    "    \n",
    "check(\"hello world! 123\")"
   ]
  },
  {
   "cell_type": "code",
   "execution_count": 13,
   "metadata": {
    "collapsed": false
   },
   "outputs": [
    {
     "name": "stdout",
     "output_type": "stream",
     "text": [
      "Upper Case 1\n",
      "Lower Case 9\n"
     ]
    }
   ],
   "source": [
    "#check no of upper and lower case\n",
    "\n",
    "def check(st):\n",
    "    countUpper=0\n",
    "    countLower=0\n",
    "    for letter in st:\n",
    "        if letter.isupper():\n",
    "            countUpper+=1\n",
    "        elif letter.islower():\n",
    "            countLower+=1\n",
    "    print \"Upper Case\",countUpper\n",
    "    print \"Lower Case\",countLower\n",
    "    \n",
    "check(\"Hello world!\")"
   ]
  },
  {
   "cell_type": "code",
   "execution_count": 15,
   "metadata": {
    "collapsed": false
   },
   "outputs": [
    {
     "name": "stdout",
     "output_type": "stream",
     "text": [
      "83.0283102031\n"
     ]
    }
   ],
   "source": [
    "import random\n",
    "\n",
    "def rand():\n",
    "    print random.uniform(10,100)\n",
    "    \n",
    "rand()"
   ]
  },
  {
   "cell_type": "code",
   "execution_count": 19,
   "metadata": {
    "collapsed": false
   },
   "outputs": [
    {
     "name": "stdout",
     "output_type": "stream",
     "text": [
      "4.81715679169\n"
     ]
    }
   ],
   "source": [
    "from timeit import Timer\n",
    "\n",
    "def checkTime():\n",
    "    totalTime = Timer(\"for i in range(100): 1+1\")\n",
    "    print totalTime.timeit()\n",
    "    \n",
    "checkTime()"
   ]
  },
  {
   "cell_type": "code",
   "execution_count": null,
   "metadata": {
    "collapsed": false
   },
   "outputs": [],
   "source": [
    "#hard\n",
    "\n",
    "\n",
    "l = []\n",
    "while True:\n",
    "    s = raw_input()\n",
    "    if not s:\n",
    "        break\n",
    "    l.append(tuple(s.split(\",\")))\n",
    "\n",
    "print sorted(l, key=itemgetter(0,1,2))"
   ]
  },
  {
   "cell_type": "code",
   "execution_count": 3,
   "metadata": {
    "collapsed": false
   },
   "outputs": [
    {
     "name": "stdout",
     "output_type": "stream",
     "text": [
      "NYC\n"
     ]
    }
   ],
   "source": [
    "class American(object):\n",
    "    def __init__(self):\n",
    "        print \"America\"\n",
    "class NewYorker(American):\n",
    "    def __init__(self):\n",
    "        print \"NYC\"\n",
    "\n",
    "child = NewYorker()\n"
   ]
  },
  {
   "cell_type": "code",
   "execution_count": 11,
   "metadata": {
    "collapsed": false
   },
   "outputs": [
    {
     "ename": "SyntaxError",
     "evalue": "invalid syntax (<ipython-input-11-ad265df0a558>, line 8)",
     "output_type": "error",
     "traceback": [
      "\u001b[1;36m  File \u001b[1;32m\"<ipython-input-11-ad265df0a558>\"\u001b[1;36m, line \u001b[1;32m8\u001b[0m\n\u001b[1;33m    circl1 = Circle(10.0)\u001b[0m\n\u001b[1;37m         ^\u001b[0m\n\u001b[1;31mSyntaxError\u001b[0m\u001b[1;31m:\u001b[0m invalid syntax\n"
     ]
    }
   ],
   "source": [
    "class Circle(object):\n",
    "    def __init__(self,radius):\n",
    "        self.radius = radius\n",
    "        \n",
    "    def calcArea(self):\n",
    "        return (math.pi * float(self.radius) * float(self.radius)\n",
    "    \n",
    "circl1 = Circle(10.0)\n",
    "print obj1.calcArea()\n"
   ]
  },
  {
   "cell_type": "code",
   "execution_count": 10,
   "metadata": {
    "collapsed": false
   },
   "outputs": [
    {
     "name": "stdout",
     "output_type": "stream",
     "text": [
      "100\n"
     ]
    }
   ],
   "source": [
    "class Rectangle(object):\n",
    "    def __init__(self, length, width):\n",
    "        self.l = length\n",
    "        self.w = width\n",
    "    \n",
    "    def calculate(self):\n",
    "        return self.l * self.w\n",
    "    \n",
    "rect1 = Rectangle(10,10)\n",
    "print rect1.calculate()"
   ]
  },
  {
   "cell_type": "code",
   "execution_count": null,
   "metadata": {
    "collapsed": true
   },
   "outputs": [],
   "source": []
  }
 ],
 "metadata": {
  "kernelspec": {
   "display_name": "Python 2",
   "language": "python",
   "name": "python2"
  },
  "language_info": {
   "codemirror_mode": {
    "name": "ipython",
    "version": 2
   },
   "file_extension": ".py",
   "mimetype": "text/x-python",
   "name": "python",
   "nbconvert_exporter": "python",
   "pygments_lexer": "ipython2",
   "version": "2.7.11"
  }
 },
 "nbformat": 4,
 "nbformat_minor": 0
}
